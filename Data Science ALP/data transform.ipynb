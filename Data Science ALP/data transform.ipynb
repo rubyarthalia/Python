{
 "cells": [
  {
   "cell_type": "code",
   "execution_count": 56,
   "id": "531fe9fc",
   "metadata": {},
   "outputs": [],
   "source": [
    "import pmdarima as pm\n",
    "from pmdarima.model_selection import train_test_split\n",
    "import numpy as np\n",
    "import matplotlib.pyplot as plt\n",
    "\n",
    "import pandas as pd\n",
    "import numpy as np\n",
    "import matplotlib.pyplot as plt\n",
    "import seaborn as sns\n",
    "from statsmodels.tsa.stattools import adfuller,acf, pacf\n",
    "from statsmodels.tsa.arima_model import ARIMA\n",
    "import statsmodels.api as sm\n",
    "from pylab import rcParams"
   ]
  },
  {
   "cell_type": "code",
   "execution_count": 57,
   "id": "0508a54f",
   "metadata": {},
   "outputs": [
    {
     "data": {
      "text/html": [
       "<div>\n",
       "<style scoped>\n",
       "    .dataframe tbody tr th:only-of-type {\n",
       "        vertical-align: middle;\n",
       "    }\n",
       "\n",
       "    .dataframe tbody tr th {\n",
       "        vertical-align: top;\n",
       "    }\n",
       "\n",
       "    .dataframe thead th {\n",
       "        text-align: right;\n",
       "    }\n",
       "</style>\n",
       "<table border=\"1\" class=\"dataframe\">\n",
       "  <thead>\n",
       "    <tr style=\"text-align: right;\">\n",
       "      <th></th>\n",
       "      <th>Tanggal</th>\n",
       "      <th>Oil</th>\n",
       "    </tr>\n",
       "  </thead>\n",
       "  <tbody>\n",
       "    <tr>\n",
       "      <th>0</th>\n",
       "      <td>Dec-98</td>\n",
       "      <td>10,41</td>\n",
       "    </tr>\n",
       "    <tr>\n",
       "      <th>1</th>\n",
       "      <td>Jan-99</td>\n",
       "      <td>11,44</td>\n",
       "    </tr>\n",
       "    <tr>\n",
       "      <th>2</th>\n",
       "      <td>Feb-99</td>\n",
       "      <td>10,75</td>\n",
       "    </tr>\n",
       "    <tr>\n",
       "      <th>3</th>\n",
       "      <td>Mar-99</td>\n",
       "      <td>13,17</td>\n",
       "    </tr>\n",
       "    <tr>\n",
       "      <th>4</th>\n",
       "      <td>Apr-99</td>\n",
       "      <td>15,87</td>\n",
       "    </tr>\n",
       "  </tbody>\n",
       "</table>\n",
       "</div>"
      ],
      "text/plain": [
       "  Tanggal    Oil\n",
       "0  Dec-98  10,41\n",
       "1  Jan-99  11,44\n",
       "2  Feb-99  10,75\n",
       "3  Mar-99  13,17\n",
       "4  Apr-99  15,87"
      ]
     },
     "execution_count": 57,
     "metadata": {},
     "output_type": "execute_result"
    }
   ],
   "source": [
    "Oil_Prices = pd.read_csv(\"OIl.csv\", delimiter=\";\")\n",
    "Oil_Prices.head()"
   ]
  },
  {
   "cell_type": "code",
   "execution_count": 58,
   "id": "2219cced",
   "metadata": {},
   "outputs": [
    {
     "data": {
      "text/plain": [
       "Tanggal    object\n",
       "Oil        object\n",
       "dtype: object"
      ]
     },
     "execution_count": 58,
     "metadata": {},
     "output_type": "execute_result"
    }
   ],
   "source": [
    "Oil_Prices.dtypes"
   ]
  },
  {
   "cell_type": "code",
   "execution_count": 59,
   "id": "2a7321f7",
   "metadata": {},
   "outputs": [
    {
     "data": {
      "text/plain": [
       "Tanggal    0\n",
       "Oil        0\n",
       "dtype: int64"
      ]
     },
     "execution_count": 59,
     "metadata": {},
     "output_type": "execute_result"
    }
   ],
   "source": [
    "Oil_Prices.isnull().sum()\n"
   ]
  },
  {
   "cell_type": "code",
   "execution_count": 60,
   "id": "60a4a52e",
   "metadata": {},
   "outputs": [
    {
     "data": {
      "text/html": [
       "<div>\n",
       "<style scoped>\n",
       "    .dataframe tbody tr th:only-of-type {\n",
       "        vertical-align: middle;\n",
       "    }\n",
       "\n",
       "    .dataframe tbody tr th {\n",
       "        vertical-align: top;\n",
       "    }\n",
       "\n",
       "    .dataframe thead th {\n",
       "        text-align: right;\n",
       "    }\n",
       "</style>\n",
       "<table border=\"1\" class=\"dataframe\">\n",
       "  <thead>\n",
       "    <tr style=\"text-align: right;\">\n",
       "      <th></th>\n",
       "      <th>Periode</th>\n",
       "      <th>Harga</th>\n",
       "    </tr>\n",
       "  </thead>\n",
       "  <tbody>\n",
       "    <tr>\n",
       "      <th>0</th>\n",
       "      <td>1998-12-01</td>\n",
       "      <td>10.41</td>\n",
       "    </tr>\n",
       "    <tr>\n",
       "      <th>1</th>\n",
       "      <td>1999-01-01</td>\n",
       "      <td>11.44</td>\n",
       "    </tr>\n",
       "    <tr>\n",
       "      <th>2</th>\n",
       "      <td>1999-02-01</td>\n",
       "      <td>10.75</td>\n",
       "    </tr>\n",
       "    <tr>\n",
       "      <th>3</th>\n",
       "      <td>1999-03-01</td>\n",
       "      <td>13.17</td>\n",
       "    </tr>\n",
       "    <tr>\n",
       "      <th>4</th>\n",
       "      <td>1999-04-01</td>\n",
       "      <td>15.87</td>\n",
       "    </tr>\n",
       "    <tr>\n",
       "      <th>...</th>\n",
       "      <td>...</td>\n",
       "      <td>...</td>\n",
       "    </tr>\n",
       "    <tr>\n",
       "      <th>309</th>\n",
       "      <td>2024-09-01</td>\n",
       "      <td>72.42</td>\n",
       "    </tr>\n",
       "    <tr>\n",
       "      <th>310</th>\n",
       "      <td>2024-10-01</td>\n",
       "      <td>73.97</td>\n",
       "    </tr>\n",
       "    <tr>\n",
       "      <th>311</th>\n",
       "      <td>2024-11-01</td>\n",
       "      <td>72.29</td>\n",
       "    </tr>\n",
       "    <tr>\n",
       "      <th>312</th>\n",
       "      <td>2024-12-01</td>\n",
       "      <td>72.31</td>\n",
       "    </tr>\n",
       "    <tr>\n",
       "      <th>313</th>\n",
       "      <td>2025-01-01</td>\n",
       "      <td>78.16</td>\n",
       "    </tr>\n",
       "  </tbody>\n",
       "</table>\n",
       "<p>314 rows × 2 columns</p>\n",
       "</div>"
      ],
      "text/plain": [
       "       Periode  Harga\n",
       "0   1998-12-01  10.41\n",
       "1   1999-01-01  11.44\n",
       "2   1999-02-01  10.75\n",
       "3   1999-03-01  13.17\n",
       "4   1999-04-01  15.87\n",
       "..         ...    ...\n",
       "309 2024-09-01  72.42\n",
       "310 2024-10-01  73.97\n",
       "311 2024-11-01  72.29\n",
       "312 2024-12-01  72.31\n",
       "313 2025-01-01  78.16\n",
       "\n",
       "[314 rows x 2 columns]"
      ]
     },
     "execution_count": 60,
     "metadata": {},
     "output_type": "execute_result"
    }
   ],
   "source": [
    "Oil_Prices['Tanggal'] = pd.to_datetime(Oil_Prices['Tanggal'], format='%b-%y')\n",
    "Oil_Prices['Oil'] = Oil_Prices['Oil'].str.replace(',', '.', regex=False).astype(float)\n",
    "Oil_Prices.rename(columns={'Tanggal': 'Periode'}, inplace=True)\n",
    "Oil_Prices.rename(columns={'Oil': 'Harga'}, inplace=True)\n",
    "Oil_Prices"
   ]
  },
  {
   "cell_type": "code",
   "execution_count": 61,
   "id": "079e0075",
   "metadata": {},
   "outputs": [
    {
     "data": {
      "text/html": [
       "<div>\n",
       "<style scoped>\n",
       "    .dataframe tbody tr th:only-of-type {\n",
       "        vertical-align: middle;\n",
       "    }\n",
       "\n",
       "    .dataframe tbody tr th {\n",
       "        vertical-align: top;\n",
       "    }\n",
       "\n",
       "    .dataframe thead th {\n",
       "        text-align: right;\n",
       "    }\n",
       "</style>\n",
       "<table border=\"1\" class=\"dataframe\">\n",
       "  <thead>\n",
       "    <tr style=\"text-align: right;\">\n",
       "      <th></th>\n",
       "      <th>Tanggal</th>\n",
       "      <th>Data</th>\n",
       "    </tr>\n",
       "  </thead>\n",
       "  <tbody>\n",
       "    <tr>\n",
       "      <th>0</th>\n",
       "      <td>Dec-98</td>\n",
       "      <td>1.41 %</td>\n",
       "    </tr>\n",
       "    <tr>\n",
       "      <th>1</th>\n",
       "      <td>Jan-99</td>\n",
       "      <td>2.96 %</td>\n",
       "    </tr>\n",
       "    <tr>\n",
       "      <th>2</th>\n",
       "      <td>Feb-99</td>\n",
       "      <td>1.27 %</td>\n",
       "    </tr>\n",
       "    <tr>\n",
       "      <th>3</th>\n",
       "      <td>Mar-99</td>\n",
       "      <td>-0.19 %</td>\n",
       "    </tr>\n",
       "    <tr>\n",
       "      <th>4</th>\n",
       "      <td>Apr-99</td>\n",
       "      <td>-0.67 %</td>\n",
       "    </tr>\n",
       "  </tbody>\n",
       "</table>\n",
       "</div>"
      ],
      "text/plain": [
       "  Tanggal     Data\n",
       "0  Dec-98   1.41 %\n",
       "1  Jan-99   2.96 %\n",
       "2  Feb-99   1.27 %\n",
       "3  Mar-99  -0.19 %\n",
       "4  Apr-99  -0.67 %"
      ]
     },
     "execution_count": 61,
     "metadata": {},
     "output_type": "execute_result"
    }
   ],
   "source": [
    "Inflation = pd.read_csv(\"Inflation.csv\", delimiter=';')\n",
    "Inflation.head()"
   ]
  },
  {
   "cell_type": "code",
   "execution_count": 62,
   "id": "c9df5aa7",
   "metadata": {},
   "outputs": [
    {
     "data": {
      "text/plain": [
       "Tanggal    object\n",
       "Data       object\n",
       "dtype: object"
      ]
     },
     "execution_count": 62,
     "metadata": {},
     "output_type": "execute_result"
    }
   ],
   "source": [
    "Inflation.dtypes"
   ]
  },
  {
   "cell_type": "code",
   "execution_count": 63,
   "id": "5feae990",
   "metadata": {},
   "outputs": [
    {
     "data": {
      "text/plain": [
       "Tanggal    0\n",
       "Data       0\n",
       "dtype: int64"
      ]
     },
     "execution_count": 63,
     "metadata": {},
     "output_type": "execute_result"
    }
   ],
   "source": [
    "Inflation.isnull().sum()"
   ]
  },
  {
   "cell_type": "code",
   "execution_count": 64,
   "id": "4ac1cac7",
   "metadata": {},
   "outputs": [
    {
     "data": {
      "text/html": [
       "<div>\n",
       "<style scoped>\n",
       "    .dataframe tbody tr th:only-of-type {\n",
       "        vertical-align: middle;\n",
       "    }\n",
       "\n",
       "    .dataframe tbody tr th {\n",
       "        vertical-align: top;\n",
       "    }\n",
       "\n",
       "    .dataframe thead th {\n",
       "        text-align: right;\n",
       "    }\n",
       "</style>\n",
       "<table border=\"1\" class=\"dataframe\">\n",
       "  <thead>\n",
       "    <tr style=\"text-align: right;\">\n",
       "      <th></th>\n",
       "      <th>Periode</th>\n",
       "      <th>Inflation Rate</th>\n",
       "    </tr>\n",
       "  </thead>\n",
       "  <tbody>\n",
       "    <tr>\n",
       "      <th>0</th>\n",
       "      <td>1998-12-01</td>\n",
       "      <td>0.0141</td>\n",
       "    </tr>\n",
       "    <tr>\n",
       "      <th>1</th>\n",
       "      <td>1999-01-01</td>\n",
       "      <td>0.0296</td>\n",
       "    </tr>\n",
       "    <tr>\n",
       "      <th>2</th>\n",
       "      <td>1999-02-01</td>\n",
       "      <td>0.0127</td>\n",
       "    </tr>\n",
       "    <tr>\n",
       "      <th>3</th>\n",
       "      <td>1999-03-01</td>\n",
       "      <td>-0.0019</td>\n",
       "    </tr>\n",
       "    <tr>\n",
       "      <th>4</th>\n",
       "      <td>1999-04-01</td>\n",
       "      <td>-0.0067</td>\n",
       "    </tr>\n",
       "    <tr>\n",
       "      <th>...</th>\n",
       "      <td>...</td>\n",
       "      <td>...</td>\n",
       "    </tr>\n",
       "    <tr>\n",
       "      <th>309</th>\n",
       "      <td>2024-09-01</td>\n",
       "      <td>-0.0012</td>\n",
       "    </tr>\n",
       "    <tr>\n",
       "      <th>310</th>\n",
       "      <td>2024-10-01</td>\n",
       "      <td>0.0008</td>\n",
       "    </tr>\n",
       "    <tr>\n",
       "      <th>311</th>\n",
       "      <td>2024-11-01</td>\n",
       "      <td>0.0030</td>\n",
       "    </tr>\n",
       "    <tr>\n",
       "      <th>312</th>\n",
       "      <td>2024-12-01</td>\n",
       "      <td>0.0044</td>\n",
       "    </tr>\n",
       "    <tr>\n",
       "      <th>313</th>\n",
       "      <td>2025-01-01</td>\n",
       "      <td>-0.0076</td>\n",
       "    </tr>\n",
       "  </tbody>\n",
       "</table>\n",
       "<p>314 rows × 2 columns</p>\n",
       "</div>"
      ],
      "text/plain": [
       "       Periode  Inflation Rate\n",
       "0   1998-12-01          0.0141\n",
       "1   1999-01-01          0.0296\n",
       "2   1999-02-01          0.0127\n",
       "3   1999-03-01         -0.0019\n",
       "4   1999-04-01         -0.0067\n",
       "..         ...             ...\n",
       "309 2024-09-01         -0.0012\n",
       "310 2024-10-01          0.0008\n",
       "311 2024-11-01          0.0030\n",
       "312 2024-12-01          0.0044\n",
       "313 2025-01-01         -0.0076\n",
       "\n",
       "[314 rows x 2 columns]"
      ]
     },
     "execution_count": 64,
     "metadata": {},
     "output_type": "execute_result"
    }
   ],
   "source": [
    "Inflation['Tanggal'] = pd.to_datetime(Inflation['Tanggal'], format='%b-%y')\n",
    "Inflation['Data'] = Inflation['Data'].str.replace(',', '.', regex=False).str.replace('%', '', regex=False).astype(float) / 100\n",
    "Inflation.rename(columns={'Tanggal': 'Periode'}, inplace=True)\n",
    "Inflation.rename(columns={'Data': 'Inflation Rate'}, inplace=True)\n",
    "Inflation\n"
   ]
  },
  {
   "cell_type": "code",
   "execution_count": 65,
   "id": "49779576",
   "metadata": {},
   "outputs": [
    {
     "data": {
      "text/html": [
       "<div>\n",
       "<style scoped>\n",
       "    .dataframe tbody tr th:only-of-type {\n",
       "        vertical-align: middle;\n",
       "    }\n",
       "\n",
       "    .dataframe tbody tr th {\n",
       "        vertical-align: top;\n",
       "    }\n",
       "\n",
       "    .dataframe thead th {\n",
       "        text-align: right;\n",
       "    }\n",
       "</style>\n",
       "<table border=\"1\" class=\"dataframe\">\n",
       "  <thead>\n",
       "    <tr style=\"text-align: right;\">\n",
       "      <th></th>\n",
       "      <th>Tanggal</th>\n",
       "      <th>Harga (IDR-USD)</th>\n",
       "    </tr>\n",
       "  </thead>\n",
       "  <tbody>\n",
       "    <tr>\n",
       "      <th>0</th>\n",
       "      <td>Dec-98</td>\n",
       "      <td>8000.0</td>\n",
       "    </tr>\n",
       "    <tr>\n",
       "      <th>1</th>\n",
       "      <td>Jan-99</td>\n",
       "      <td>8850.0</td>\n",
       "    </tr>\n",
       "    <tr>\n",
       "      <th>2</th>\n",
       "      <td>Feb-99</td>\n",
       "      <td>8800.0</td>\n",
       "    </tr>\n",
       "    <tr>\n",
       "      <th>3</th>\n",
       "      <td>Mar-99</td>\n",
       "      <td>8650.0</td>\n",
       "    </tr>\n",
       "    <tr>\n",
       "      <th>4</th>\n",
       "      <td>Apr-99</td>\n",
       "      <td>8017.5</td>\n",
       "    </tr>\n",
       "  </tbody>\n",
       "</table>\n",
       "</div>"
      ],
      "text/plain": [
       "  Tanggal  Harga (IDR-USD)\n",
       "0  Dec-98           8000.0\n",
       "1  Jan-99           8850.0\n",
       "2  Feb-99           8800.0\n",
       "3  Mar-99           8650.0\n",
       "4  Apr-99           8017.5"
      ]
     },
     "execution_count": 65,
     "metadata": {},
     "output_type": "execute_result"
    }
   ],
   "source": [
    "Exchange_Rate = pd.read_csv(\"Exchange Rate.csv\", delimiter=';')\n",
    "Exchange_Rate.head()"
   ]
  },
  {
   "cell_type": "code",
   "execution_count": 66,
   "id": "4470c66c",
   "metadata": {},
   "outputs": [
    {
     "data": {
      "text/plain": [
       "Tanggal             object\n",
       "Harga (IDR-USD)    float64\n",
       "dtype: object"
      ]
     },
     "execution_count": 66,
     "metadata": {},
     "output_type": "execute_result"
    }
   ],
   "source": [
    "Exchange_Rate.dtypes"
   ]
  },
  {
   "cell_type": "code",
   "execution_count": 67,
   "id": "03a7ac2b",
   "metadata": {},
   "outputs": [
    {
     "data": {
      "text/plain": [
       "Tanggal            0\n",
       "Harga (IDR-USD)    0\n",
       "dtype: int64"
      ]
     },
     "execution_count": 67,
     "metadata": {},
     "output_type": "execute_result"
    }
   ],
   "source": [
    "Exchange_Rate.isnull().sum()"
   ]
  },
  {
   "cell_type": "code",
   "execution_count": 68,
   "id": "ebdfd872",
   "metadata": {},
   "outputs": [
    {
     "data": {
      "text/html": [
       "<div>\n",
       "<style scoped>\n",
       "    .dataframe tbody tr th:only-of-type {\n",
       "        vertical-align: middle;\n",
       "    }\n",
       "\n",
       "    .dataframe tbody tr th {\n",
       "        vertical-align: top;\n",
       "    }\n",
       "\n",
       "    .dataframe thead th {\n",
       "        text-align: right;\n",
       "    }\n",
       "</style>\n",
       "<table border=\"1\" class=\"dataframe\">\n",
       "  <thead>\n",
       "    <tr style=\"text-align: right;\">\n",
       "      <th></th>\n",
       "      <th>Periode</th>\n",
       "      <th>Harga (IDR-USD)</th>\n",
       "    </tr>\n",
       "  </thead>\n",
       "  <tbody>\n",
       "    <tr>\n",
       "      <th>0</th>\n",
       "      <td>1998-12-01</td>\n",
       "      <td>8000.0</td>\n",
       "    </tr>\n",
       "    <tr>\n",
       "      <th>1</th>\n",
       "      <td>1999-01-01</td>\n",
       "      <td>8850.0</td>\n",
       "    </tr>\n",
       "    <tr>\n",
       "      <th>2</th>\n",
       "      <td>1999-02-01</td>\n",
       "      <td>8800.0</td>\n",
       "    </tr>\n",
       "    <tr>\n",
       "      <th>3</th>\n",
       "      <td>1999-03-01</td>\n",
       "      <td>8650.0</td>\n",
       "    </tr>\n",
       "    <tr>\n",
       "      <th>4</th>\n",
       "      <td>1999-04-01</td>\n",
       "      <td>8017.5</td>\n",
       "    </tr>\n",
       "    <tr>\n",
       "      <th>...</th>\n",
       "      <td>...</td>\n",
       "      <td>...</td>\n",
       "    </tr>\n",
       "    <tr>\n",
       "      <th>309</th>\n",
       "      <td>2024-09-01</td>\n",
       "      <td>15135.0</td>\n",
       "    </tr>\n",
       "    <tr>\n",
       "      <th>310</th>\n",
       "      <td>2024-10-01</td>\n",
       "      <td>15690.0</td>\n",
       "    </tr>\n",
       "    <tr>\n",
       "      <th>311</th>\n",
       "      <td>2024-11-01</td>\n",
       "      <td>15840.0</td>\n",
       "    </tr>\n",
       "    <tr>\n",
       "      <th>312</th>\n",
       "      <td>2024-12-01</td>\n",
       "      <td>16090.0</td>\n",
       "    </tr>\n",
       "    <tr>\n",
       "      <th>313</th>\n",
       "      <td>2025-01-01</td>\n",
       "      <td>16300.0</td>\n",
       "    </tr>\n",
       "  </tbody>\n",
       "</table>\n",
       "<p>314 rows × 2 columns</p>\n",
       "</div>"
      ],
      "text/plain": [
       "       Periode  Harga (IDR-USD)\n",
       "0   1998-12-01           8000.0\n",
       "1   1999-01-01           8850.0\n",
       "2   1999-02-01           8800.0\n",
       "3   1999-03-01           8650.0\n",
       "4   1999-04-01           8017.5\n",
       "..         ...              ...\n",
       "309 2024-09-01          15135.0\n",
       "310 2024-10-01          15690.0\n",
       "311 2024-11-01          15840.0\n",
       "312 2024-12-01          16090.0\n",
       "313 2025-01-01          16300.0\n",
       "\n",
       "[314 rows x 2 columns]"
      ]
     },
     "execution_count": 68,
     "metadata": {},
     "output_type": "execute_result"
    }
   ],
   "source": [
    "Exchange_Rate['Tanggal'] = pd.to_datetime(Exchange_Rate['Tanggal'], format='%b-%y')\n",
    "Exchange_Rate.rename(columns={'Tanggal': 'Periode'}, inplace=True)\n",
    "Exchange_Rate"
   ]
  },
  {
   "cell_type": "code",
   "execution_count": 70,
   "id": "86021424",
   "metadata": {},
   "outputs": [
    {
     "data": {
      "text/html": [
       "<div>\n",
       "<style scoped>\n",
       "    .dataframe tbody tr th:only-of-type {\n",
       "        vertical-align: middle;\n",
       "    }\n",
       "\n",
       "    .dataframe tbody tr th {\n",
       "        vertical-align: top;\n",
       "    }\n",
       "\n",
       "    .dataframe thead th {\n",
       "        text-align: right;\n",
       "    }\n",
       "</style>\n",
       "<table border=\"1\" class=\"dataframe\">\n",
       "  <thead>\n",
       "    <tr style=\"text-align: right;\">\n",
       "      <th></th>\n",
       "      <th>Bulan</th>\n",
       "      <th>BI Rate</th>\n",
       "    </tr>\n",
       "  </thead>\n",
       "  <tbody>\n",
       "    <tr>\n",
       "      <th>0</th>\n",
       "      <td>Dec-98</td>\n",
       "      <td>38.44</td>\n",
       "    </tr>\n",
       "    <tr>\n",
       "      <th>1</th>\n",
       "      <td>Jan-99</td>\n",
       "      <td>36.43</td>\n",
       "    </tr>\n",
       "    <tr>\n",
       "      <th>2</th>\n",
       "      <td>Feb-99</td>\n",
       "      <td>37.50</td>\n",
       "    </tr>\n",
       "    <tr>\n",
       "      <th>3</th>\n",
       "      <td>Mar-99</td>\n",
       "      <td>37.84</td>\n",
       "    </tr>\n",
       "    <tr>\n",
       "      <th>4</th>\n",
       "      <td>Apr-99</td>\n",
       "      <td>35.19</td>\n",
       "    </tr>\n",
       "  </tbody>\n",
       "</table>\n",
       "</div>"
      ],
      "text/plain": [
       "    Bulan  BI Rate\n",
       "0  Dec-98    38.44\n",
       "1  Jan-99    36.43\n",
       "2  Feb-99    37.50\n",
       "3  Mar-99    37.84\n",
       "4  Apr-99    35.19"
      ]
     },
     "execution_count": 70,
     "metadata": {},
     "output_type": "execute_result"
    }
   ],
   "source": [
    "Interest_Rate = pd.read_csv(\"BI Rate.csv\")\n",
    "Interest_Rate.head()"
   ]
  },
  {
   "cell_type": "code",
   "execution_count": 71,
   "id": "f1cca8ea",
   "metadata": {},
   "outputs": [
    {
     "data": {
      "text/plain": [
       "Bulan       object\n",
       "BI Rate    float64\n",
       "dtype: object"
      ]
     },
     "execution_count": 71,
     "metadata": {},
     "output_type": "execute_result"
    }
   ],
   "source": [
    "Interest_Rate.dtypes"
   ]
  },
  {
   "cell_type": "code",
   "execution_count": 72,
   "id": "fc2378fe",
   "metadata": {},
   "outputs": [
    {
     "data": {
      "text/plain": [
       "Bulan      0\n",
       "BI Rate    0\n",
       "dtype: int64"
      ]
     },
     "execution_count": 72,
     "metadata": {},
     "output_type": "execute_result"
    }
   ],
   "source": [
    "Interest_Rate.isnull().sum()"
   ]
  },
  {
   "cell_type": "code",
   "execution_count": 73,
   "id": "bd083afc",
   "metadata": {},
   "outputs": [
    {
     "data": {
      "text/html": [
       "<div>\n",
       "<style scoped>\n",
       "    .dataframe tbody tr th:only-of-type {\n",
       "        vertical-align: middle;\n",
       "    }\n",
       "\n",
       "    .dataframe tbody tr th {\n",
       "        vertical-align: top;\n",
       "    }\n",
       "\n",
       "    .dataframe thead th {\n",
       "        text-align: right;\n",
       "    }\n",
       "</style>\n",
       "<table border=\"1\" class=\"dataframe\">\n",
       "  <thead>\n",
       "    <tr style=\"text-align: right;\">\n",
       "      <th></th>\n",
       "      <th>Periode</th>\n",
       "      <th>Interest Rate</th>\n",
       "    </tr>\n",
       "  </thead>\n",
       "  <tbody>\n",
       "    <tr>\n",
       "      <th>0</th>\n",
       "      <td>1998-12-01</td>\n",
       "      <td>38.44</td>\n",
       "    </tr>\n",
       "    <tr>\n",
       "      <th>1</th>\n",
       "      <td>1999-01-01</td>\n",
       "      <td>36.43</td>\n",
       "    </tr>\n",
       "    <tr>\n",
       "      <th>2</th>\n",
       "      <td>1999-02-01</td>\n",
       "      <td>37.50</td>\n",
       "    </tr>\n",
       "    <tr>\n",
       "      <th>3</th>\n",
       "      <td>1999-03-01</td>\n",
       "      <td>37.84</td>\n",
       "    </tr>\n",
       "    <tr>\n",
       "      <th>4</th>\n",
       "      <td>1999-04-01</td>\n",
       "      <td>35.19</td>\n",
       "    </tr>\n",
       "    <tr>\n",
       "      <th>...</th>\n",
       "      <td>...</td>\n",
       "      <td>...</td>\n",
       "    </tr>\n",
       "    <tr>\n",
       "      <th>309</th>\n",
       "      <td>2024-09-01</td>\n",
       "      <td>6.00</td>\n",
       "    </tr>\n",
       "    <tr>\n",
       "      <th>310</th>\n",
       "      <td>2024-10-01</td>\n",
       "      <td>6.00</td>\n",
       "    </tr>\n",
       "    <tr>\n",
       "      <th>311</th>\n",
       "      <td>2024-11-01</td>\n",
       "      <td>6.00</td>\n",
       "    </tr>\n",
       "    <tr>\n",
       "      <th>312</th>\n",
       "      <td>2024-12-01</td>\n",
       "      <td>6.00</td>\n",
       "    </tr>\n",
       "    <tr>\n",
       "      <th>313</th>\n",
       "      <td>2025-01-01</td>\n",
       "      <td>5.75</td>\n",
       "    </tr>\n",
       "  </tbody>\n",
       "</table>\n",
       "<p>314 rows × 2 columns</p>\n",
       "</div>"
      ],
      "text/plain": [
       "       Periode  Interest Rate\n",
       "0   1998-12-01          38.44\n",
       "1   1999-01-01          36.43\n",
       "2   1999-02-01          37.50\n",
       "3   1999-03-01          37.84\n",
       "4   1999-04-01          35.19\n",
       "..         ...            ...\n",
       "309 2024-09-01           6.00\n",
       "310 2024-10-01           6.00\n",
       "311 2024-11-01           6.00\n",
       "312 2024-12-01           6.00\n",
       "313 2025-01-01           5.75\n",
       "\n",
       "[314 rows x 2 columns]"
      ]
     },
     "execution_count": 73,
     "metadata": {},
     "output_type": "execute_result"
    }
   ],
   "source": [
    "Interest_Rate['Bulan'] = pd.to_datetime(Interest_Rate['Bulan'], format='%b-%y')\n",
    "Interest_Rate.rename(columns={'BI Rate': 'Interest Rate'}, inplace=True)\n",
    "Interest_Rate.rename(columns={'Bulan': 'Periode'}, inplace=True)\n",
    "Interest_Rate"
   ]
  },
  {
   "cell_type": "code",
   "execution_count": 74,
   "id": "e156da7c",
   "metadata": {},
   "outputs": [
    {
     "data": {
      "text/html": [
       "<div>\n",
       "<style scoped>\n",
       "    .dataframe tbody tr th:only-of-type {\n",
       "        vertical-align: middle;\n",
       "    }\n",
       "\n",
       "    .dataframe tbody tr th {\n",
       "        vertical-align: top;\n",
       "    }\n",
       "\n",
       "    .dataframe thead th {\n",
       "        text-align: right;\n",
       "    }\n",
       "</style>\n",
       "<table border=\"1\" class=\"dataframe\">\n",
       "  <thead>\n",
       "    <tr style=\"text-align: right;\">\n",
       "      <th></th>\n",
       "      <th>Tanggal</th>\n",
       "      <th>Gold</th>\n",
       "    </tr>\n",
       "  </thead>\n",
       "  <tbody>\n",
       "    <tr>\n",
       "      <th>0</th>\n",
       "      <td>Dec-98</td>\n",
       "      <td>291,68</td>\n",
       "    </tr>\n",
       "    <tr>\n",
       "      <th>1</th>\n",
       "      <td>Jan-99</td>\n",
       "      <td>287,08</td>\n",
       "    </tr>\n",
       "    <tr>\n",
       "      <th>2</th>\n",
       "      <td>Feb-99</td>\n",
       "      <td>287,33</td>\n",
       "    </tr>\n",
       "    <tr>\n",
       "      <th>3</th>\n",
       "      <td>Mar-99</td>\n",
       "      <td>285,96</td>\n",
       "    </tr>\n",
       "    <tr>\n",
       "      <th>4</th>\n",
       "      <td>Apr-99</td>\n",
       "      <td>282,62</td>\n",
       "    </tr>\n",
       "  </tbody>\n",
       "</table>\n",
       "</div>"
      ],
      "text/plain": [
       "  Tanggal    Gold\n",
       "0  Dec-98  291,68\n",
       "1  Jan-99  287,08\n",
       "2  Feb-99  287,33\n",
       "3  Mar-99  285,96\n",
       "4  Apr-99  282,62"
      ]
     },
     "execution_count": 74,
     "metadata": {},
     "output_type": "execute_result"
    }
   ],
   "source": [
    "Gold_Prices = pd.read_csv(\"Gold.csv\", delimiter=';')\n",
    "Gold_Prices.head()"
   ]
  },
  {
   "cell_type": "code",
   "execution_count": 75,
   "id": "8fd2940e",
   "metadata": {},
   "outputs": [
    {
     "data": {
      "text/plain": [
       "Tanggal    object\n",
       "Gold       object\n",
       "dtype: object"
      ]
     },
     "execution_count": 75,
     "metadata": {},
     "output_type": "execute_result"
    }
   ],
   "source": [
    "Gold_Prices.dtypes"
   ]
  },
  {
   "cell_type": "code",
   "execution_count": 76,
   "id": "69366d33",
   "metadata": {},
   "outputs": [
    {
     "data": {
      "text/plain": [
       "Tanggal    0\n",
       "Gold       0\n",
       "dtype: int64"
      ]
     },
     "execution_count": 76,
     "metadata": {},
     "output_type": "execute_result"
    }
   ],
   "source": [
    "Gold_Prices.isnull().sum()"
   ]
  },
  {
   "cell_type": "code",
   "execution_count": 77,
   "id": "9f036876",
   "metadata": {},
   "outputs": [
    {
     "data": {
      "text/html": [
       "<div>\n",
       "<style scoped>\n",
       "    .dataframe tbody tr th:only-of-type {\n",
       "        vertical-align: middle;\n",
       "    }\n",
       "\n",
       "    .dataframe tbody tr th {\n",
       "        vertical-align: top;\n",
       "    }\n",
       "\n",
       "    .dataframe thead th {\n",
       "        text-align: right;\n",
       "    }\n",
       "</style>\n",
       "<table border=\"1\" class=\"dataframe\">\n",
       "  <thead>\n",
       "    <tr style=\"text-align: right;\">\n",
       "      <th></th>\n",
       "      <th>Periode</th>\n",
       "      <th>Harga</th>\n",
       "    </tr>\n",
       "  </thead>\n",
       "  <tbody>\n",
       "    <tr>\n",
       "      <th>0</th>\n",
       "      <td>1998-12-01</td>\n",
       "      <td>291.68</td>\n",
       "    </tr>\n",
       "    <tr>\n",
       "      <th>1</th>\n",
       "      <td>1999-01-01</td>\n",
       "      <td>287.08</td>\n",
       "    </tr>\n",
       "    <tr>\n",
       "      <th>2</th>\n",
       "      <td>1999-02-01</td>\n",
       "      <td>287.33</td>\n",
       "    </tr>\n",
       "    <tr>\n",
       "      <th>3</th>\n",
       "      <td>1999-03-01</td>\n",
       "      <td>285.96</td>\n",
       "    </tr>\n",
       "    <tr>\n",
       "      <th>4</th>\n",
       "      <td>1999-04-01</td>\n",
       "      <td>282.62</td>\n",
       "    </tr>\n",
       "    <tr>\n",
       "      <th>...</th>\n",
       "      <td>...</td>\n",
       "      <td>...</td>\n",
       "    </tr>\n",
       "    <tr>\n",
       "      <th>309</th>\n",
       "      <td>2024-09-01</td>\n",
       "      <td>2570.55</td>\n",
       "    </tr>\n",
       "    <tr>\n",
       "      <th>310</th>\n",
       "      <td>2024-10-01</td>\n",
       "      <td>2690.08</td>\n",
       "    </tr>\n",
       "    <tr>\n",
       "      <th>311</th>\n",
       "      <td>2024-11-01</td>\n",
       "      <td>2651.13</td>\n",
       "    </tr>\n",
       "    <tr>\n",
       "      <th>312</th>\n",
       "      <td>2024-12-01</td>\n",
       "      <td>2648.01</td>\n",
       "    </tr>\n",
       "    <tr>\n",
       "      <th>313</th>\n",
       "      <td>2025-01-01</td>\n",
       "      <td>2709.69</td>\n",
       "    </tr>\n",
       "  </tbody>\n",
       "</table>\n",
       "<p>314 rows × 2 columns</p>\n",
       "</div>"
      ],
      "text/plain": [
       "       Periode    Harga\n",
       "0   1998-12-01   291.68\n",
       "1   1999-01-01   287.08\n",
       "2   1999-02-01   287.33\n",
       "3   1999-03-01   285.96\n",
       "4   1999-04-01   282.62\n",
       "..         ...      ...\n",
       "309 2024-09-01  2570.55\n",
       "310 2024-10-01  2690.08\n",
       "311 2024-11-01  2651.13\n",
       "312 2024-12-01  2648.01\n",
       "313 2025-01-01  2709.69\n",
       "\n",
       "[314 rows x 2 columns]"
      ]
     },
     "execution_count": 77,
     "metadata": {},
     "output_type": "execute_result"
    }
   ],
   "source": [
    "Gold_Prices['Tanggal'] = pd.to_datetime(Gold_Prices['Tanggal'], format='%b-%y')\n",
    "Gold_Prices['Gold'] = Gold_Prices['Gold'].str.replace(',', '.', regex=False).astype(float)\n",
    "Gold_Prices.rename(columns={'Gold': 'Harga'}, inplace=True)\n",
    "Gold_Prices.rename(columns={'Tanggal': 'Periode'}, inplace=True)\n",
    "Gold_Prices"
   ]
  }
 ],
 "metadata": {
  "kernelspec": {
   "display_name": "base",
   "language": "python",
   "name": "python3"
  },
  "language_info": {
   "codemirror_mode": {
    "name": "ipython",
    "version": 3
   },
   "file_extension": ".py",
   "mimetype": "text/x-python",
   "name": "python",
   "nbconvert_exporter": "python",
   "pygments_lexer": "ipython3",
   "version": "3.12.7"
  }
 },
 "nbformat": 4,
 "nbformat_minor": 5
}
